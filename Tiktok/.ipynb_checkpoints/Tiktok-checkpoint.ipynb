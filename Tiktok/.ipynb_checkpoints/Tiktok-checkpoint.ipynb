{
 "cells": [
  {
   "cell_type": "markdown",
   "id": "d455e898-2ac9-46e7-9def-7545a3aa163f",
   "metadata": {},
   "source": [
    "#### 转盘print数时间"
   ]
  },
  {
   "cell_type": "code",
   "execution_count": 8,
   "id": "4f981d11-97d4-4805-b12e-8351062c333c",
   "metadata": {},
   "outputs": [],
   "source": [
    "def get_print_time(s):\n",
    "    ans = 0\n",
    "    for pre, nxt in zip('A'+s, s):\n",
    "        delta = abs(ord(pre)-ord(nxt))\n",
    "        ans += min(delta, 26-delta)\n",
    "    return ans"
   ]
  },
  {
   "cell_type": "markdown",
   "id": "0264633c-d846-4ca4-ace7-d5da5ab0ac20",
   "metadata": {},
   "source": [
    "#### stars and bars"
   ]
  },
  {
   "cell_type": "code",
   "execution_count": 9,
   "id": "0f8548c0-5e45-4d4c-9d9b-1df025413dfe",
   "metadata": {},
   "outputs": [],
   "source": [
    "def stars_bars(s, startindex, endindex):\n",
    "    res = []\n",
    "    for i in range(len(startindex)):\n",
    "        start = startindex[i]-1\n",
    "        end = endindex[i]-1\n",
    "        first_bar, end_bar, count_bar = -1, 0, 0   # first_bar 一开始赋值-1，若赋值0且0位置是'｜'则first_bar相当于没变\n",
    "        curr = start\n",
    "        \n",
    "        first_bar, end_bar, count_bar = solution3_helper(s, curr, end, first_bar, end_bar, count_bar)\n",
    "        \n",
    "        if end_bar:\n",
    "            res.append(end_bar-first_bar-count_bar)\n",
    "        else:\n",
    "            res.append(0)\n",
    "    return res\n",
    "\n",
    "def solution2_helper(s, curr, end, first_bar, end_bar, count_bar):\n",
    "    while curr <= end:\n",
    "        if first_bar==-1 and s[curr] == '|':\n",
    "            first_bar = curr\n",
    "        elif first_bar!=-1 and s[curr] == '|':\n",
    "            end_bar = curr\n",
    "            count_bar += 1\n",
    "        curr += 1\n",
    "    return first_bar, end_bar, count_bar"
   ]
  },
  {
   "cell_type": "markdown",
   "id": "8d061b8d-f386-4154-a150-ea16383e4c9b",
   "metadata": {},
   "source": [
    "#### Inversion"
   ]
  },
  {
   "cell_type": "code",
   "execution_count": 10,
   "id": "70ad9b27-8003-472d-9cad-20a4bb445004",
   "metadata": {},
   "outputs": [],
   "source": [
    "def maxInversions(arr):\n",
    "    largerThanRightCount = [0] * len(arr)\n",
    "    seen = set()\n",
    "    for i in range(len(arr)):\n",
    "        if arr[i] in seen:\n",
    "            largerThanRightCount[i] = 0\n",
    "        else:\n",
    "            seen.add(arr[i])\n",
    "            get_count(i, arr, largerThanRightCount)\n",
    "        \n",
    "    result = 0\n",
    "    seen = set()\n",
    "    for i in range(len(arr)):\n",
    "        if arr[i] in seen:\n",
    "            continue\n",
    "        else:\n",
    "            seen.add(arr[i])\n",
    "            result = get_res(i, arr, largerThanRightCount, result)\n",
    "    return result\n",
    "\n",
    "def get_count(i, arr, largerThanRightCount):\n",
    "    for j in range(i+1, len(arr)):\n",
    "        if arr[i] > arr[j]:\n",
    "            largerThanRightCount[i] += 1\n",
    "\n",
    "            \n",
    "def get_res(i, arr, largerThanRightCount, res):\n",
    "    for j in range(i + 1, len(arr)):\n",
    "        if arr[i] > arr[j]:\n",
    "            res += largerThanRightCount[j]\n",
    "    return res"
   ]
  },
  {
   "cell_type": "markdown",
   "id": "dc01230b-63ef-4f2a-ad3b-efb3ab4a0495",
   "metadata": {
    "tags": []
   },
   "source": [
    "#### 字典顺序最小最大substring in k size"
   ]
  },
  {
   "cell_type": "code",
   "execution_count": 12,
   "id": "7376d80b-125e-4d3d-8888-50931e18b28f",
   "metadata": {},
   "outputs": [],
   "source": [
    "def min_max_substing(s, k):\n",
    "    curr = s[:k]\n",
    "    mincurr = curr\n",
    "    maxcurr = curr\n",
    "    for i in range(k,len(s)):\n",
    "        curr = curr[1:k]+s[i]\n",
    "        if (curr < mincurr):\n",
    "            mincurr = curr\n",
    "        elif (curr > maxcurr):\n",
    "            maxcurr = curr\n",
    "    print(mincurr, maxcurr)"
   ]
  },
  {
   "cell_type": "code",
   "execution_count": 27,
   "id": "7b5fbf25-cf8d-41e7-9156-aaea12e13f00",
   "metadata": {},
   "outputs": [],
   "source": [
    "def min_k_substring(s, k):\n",
    "    left, right, count = 0, 0, 0\n",
    "    res = s\n",
    "    while left <= len(s)-k:\n",
    "        if s[left] == '0':   \n",
    "            left += 1\n",
    "            while left > right:\n",
    "                right += 1\n",
    "            continue\n",
    "            \n",
    "        # s[left] == '1':    \n",
    "        while count < k and right < len(s):\n",
    "            if s[right] == '1':   # (1) 为了后续一致性，第一次寻找时，指导left和right位置都是1，但是先不加给count，也判断后再加\n",
    "                count += 1\n",
    "            right += 1            # (2) 每次判断后right加1\n",
    "            \n",
    "        # count == k or right == len(s)\n",
    "        if count == k:\n",
    "            curr_res = s[left:right]\n",
    "            print(curr_res)\n",
    "            if len(curr_res)<len(res):\n",
    "                res = curr_res\n",
    "            elif len(curr_res) == len(res) and curr_res < res: # 分两次判断，只有len相等时比lexicographic才有意义，否则'1101'>'0101101'\n",
    "                res = curr_res\n",
    "            left += 1      # left位置已经判断过是1，需要右移\n",
    "            count -= 1     # left位置原本是1，右移后count-1\n",
    "                           # 由于(2)，right-1位置是1，right位置还没有判断过，所以right不用+1\n",
    "        else:\n",
    "            break\n",
    "    return res"
   ]
  },
  {
   "cell_type": "markdown",
   "id": "dfc83baf-e450-4800-a486-493db2777787",
   "metadata": {},
   "source": [
    "#### Super stack"
   ]
  },
  {
   "cell_type": "code",
   "execution_count": 31,
   "id": "8e7526a9-b06a-4e3b-9b43-32717fb7469f",
   "metadata": {},
   "outputs": [],
   "source": [
    "class CustomStack:\n",
    "\n",
    "    def __init__(self, maxSize: int):\n",
    "        self.stack = []\n",
    "        self.inc = []\n",
    "        self.maxsize = maxSize\n",
    "        \n",
    "        \n",
    "        \n",
    "    def push(self, x: int) -> None:\n",
    "        if len(self.stack) < self.maxsize:\n",
    "            self.stack.append(x)\n",
    "            self.inc.append(0)\n",
    "\n",
    "    def pop(self) -> int:\n",
    "        if not self.stack:\n",
    "            return -1\n",
    "        if len(self.inc)>1:\n",
    "            self.inc[-2] += self.inc[-1]\n",
    "        return self.stack.pop(-1)+self.inc.pop(-1)\n",
    "    \n",
    "     \n",
    "    def increment(self, k: int, val: int) -> None:\n",
    "        if self.inc:                    # 如果self.inc是空的，self.inc[-1]会报错\n",
    "            self.inc[min(k-1, len(self.inc)-1)] += val  # 注意表示前k个数的index是k-1"
   ]
  },
  {
   "cell_type": "markdown",
   "id": "d91ca366-03c7-47d8-95b1-9aa6d5ae79a5",
   "metadata": {},
   "source": [
    "#### ancestral names"
   ]
  },
  {
   "cell_type": "code",
   "execution_count": 32,
   "id": "151fa11e-48c0-43c9-bc8c-a1589088323b",
   "metadata": {},
   "outputs": [],
   "source": [
    "def roman_to_int(s:str):\n",
    "    rom_to_int_map = {\"I\": 1, \"V\": 5, \"X\": 10, \"L\": 50, \"C\": 100, \"D\": 500, \"M\": 1000}\n",
    "    sub_map = {'IV': 4, 'IX':9, 'XL': 40, 'XC': 90, 'CD':400, 'CM': 900}\n",
    "    summation = 0\n",
    "    idx = 0\n",
    "\n",
    "    while idx < len(s):\n",
    "        if s[idx:idx+2] in sub_map:\n",
    "            summation += sub_map.get(s[idx:idx+2])\n",
    "            idx += 2\n",
    "        else:\n",
    "            summation += rom_to_int_map.get(s[idx])\n",
    "            idx += 1\n",
    "    return summation\n",
    "    \n",
    "def sort_roman(names):\n",
    "    name_array = []\n",
    "    for name in names:\n",
    "        n, num = name.split()\n",
    "        num = roman_to_int(num)\n",
    "        name_array.append((n, num, name))\n",
    "    name_array.sort(key=lambda x: [x[0], x[1]])\n",
    "    return list(map(lambda x:x[2], name_array))"
   ]
  },
  {
   "cell_type": "code",
   "execution_count": 45,
   "id": "02647c7a-3fc6-440f-9206-7910694a1d1b",
   "metadata": {},
   "outputs": [
    {
     "data": {
      "text/plain": [
       "['David IX', 'Mary XIII', 'Mary XV', 'Mary XX', 'Steve XVI', 'Steve XL']"
      ]
     },
     "execution_count": 45,
     "metadata": {},
     "output_type": "execute_result"
    }
   ],
   "source": [
    "test = ['Steve XL','Steve XVI','David IX','Mary XV','Mary XIII','Mary XX']\n",
    "sort_roman(test)"
   ]
  },
  {
   "cell_type": "markdown",
   "id": "7c1c86db-1600-4979-a12d-b6c2bae15e4f",
   "metadata": {},
   "source": [
    "#### String Chain"
   ]
  },
  {
   "cell_type": "code",
   "execution_count": 34,
   "id": "175205ea-ac16-4ba8-86e1-ab8212402e04",
   "metadata": {},
   "outputs": [],
   "source": [
    "class Solution:\n",
    "    def longestStrChain(self, words):\n",
    "        dp = {}\n",
    "        for w in sorted(words, key=len):\n",
    "            dp[w] = max(dp.get(w[:i] + w[i + 1:], 0) + 1 for i in range(len(w)))\n",
    "        return max(dp.values())"
   ]
  },
  {
   "cell_type": "markdown",
   "id": "a2d51a47-cbaa-46b3-a776-7e5d9ecf97b6",
   "metadata": {},
   "source": [
    "#### permeation in string"
   ]
  },
  {
   "cell_type": "code",
   "execution_count": 35,
   "id": "25b19206-5d3a-483e-aa48-bcc46b439f7b",
   "metadata": {},
   "outputs": [],
   "source": [
    "from collections import Counter\n",
    "class Solution:\n",
    "    def checkInclusion(self, s1: str, s2: str) -> bool:\n",
    "        l1 = [0]*26\n",
    "        for s in s1:\n",
    "            l1[ord(s)-ord('a')] += 1\n",
    "        \n",
    "        l2 = [0]*26\n",
    "        left, right = 0, len(s1)-1\n",
    "        for s in s2[left:right+1]:\n",
    "            l2[ord(s)-ord('a')] += 1\n",
    "        \n",
    "        while right < len(s2):\n",
    "            if l1 == l2:\n",
    "                return True\n",
    "            l2[ord(s2[left])-ord('a')] -= 1\n",
    "            left += 1\n",
    "            right += 1\n",
    "            if right <= len(s2)-1:\n",
    "                l2[ord(s2[right])-ord('a')] += 1\n",
    "        return False"
   ]
  },
  {
   "cell_type": "markdown",
   "id": "7ed06583-499d-44fa-921a-1eab124ef49f",
   "metadata": {},
   "source": [
    "#### Count binary strings"
   ]
  },
  {
   "cell_type": "code",
   "execution_count": 36,
   "id": "59736650-0677-4332-9ce6-d79df9e8107a",
   "metadata": {},
   "outputs": [],
   "source": [
    "class Solution:\n",
    "    def countBinarySubstrings(self, s: str) -> int:\n",
    "        group = [1]\n",
    "        for i in range(1, len(s)):\n",
    "            if s[i] != s[i-1]:\n",
    "                group.append(1)\n",
    "            else:\n",
    "                group[-1] += 1\n",
    "        ans = 0\n",
    "        for i in range(1, len(group)):\n",
    "            ans += min(group[i-1], group[i])\n",
    "        \n",
    "        return ans"
   ]
  },
  {
   "cell_type": "markdown",
   "id": "da2c53ba-775f-4c8b-9538-0a56389068de",
   "metadata": {},
   "source": [
    "#### The Number of Weak Characters in the Game"
   ]
  },
  {
   "cell_type": "code",
   "execution_count": 38,
   "id": "6b4d9e59-b242-415c-afb1-b09cf5e3a9a0",
   "metadata": {},
   "outputs": [],
   "source": [
    "class Solution:\n",
    "    def numberOfWeakCharacters(self, properties) -> int:\n",
    "        properties.sort(key = lambda x: (-x[0], x[1]))\n",
    "        ans = 0\n",
    "        max_d = 0\n",
    "        \n",
    "        for _, defense in properties:\n",
    "            if defense < max_d:\n",
    "                ans += 1\n",
    "            else:\n",
    "                max_d = defense\n",
    "        \n",
    "        return ans"
   ]
  },
  {
   "cell_type": "markdown",
   "id": "6ad488d3-2261-45db-9c73-3e6e86e4f44f",
   "metadata": {},
   "source": [
    "#### LRU cache"
   ]
  },
  {
   "cell_type": "code",
   "execution_count": 39,
   "id": "ef8758d2-167e-449a-9e84-3101b18e2476",
   "metadata": {},
   "outputs": [],
   "source": [
    "from collections import OrderedDict\n",
    "class LRUCache:\n",
    "\n",
    "    def __init__(self, capacity: int):\n",
    "        self.dict = OrderedDict()\n",
    "        self.capacity = capacity\n",
    "\n",
    "    def get(self, key: int) -> int:\n",
    "        if key in self.dict:\n",
    "            self.dict.move_to_end(key)\n",
    "            return self.dict[key]\n",
    "        return -1\n",
    "\n",
    "    def put(self, key: int, value: int) -> None:\n",
    "        if key in self.dict:\n",
    "            self.dict.move_to_end(key)\n",
    "        self.dict[key] = value\n",
    "        if len(self.dict) > self.capacity:\n",
    "            self.dict.popitem(last=False)"
   ]
  },
  {
   "cell_type": "code",
   "execution_count": 42,
   "id": "4ada5f96-793d-48e7-8540-bf73bef65123",
   "metadata": {},
   "outputs": [],
   "source": [
    "class DLinkedNode(): \n",
    "    def __init__(self):\n",
    "        self.key = 0\n",
    "        self.value = 0\n",
    "        self.prev = None\n",
    "        self.next = None\n",
    "            \n",
    "class LRUCache():\n",
    "    def _add_node(self, node):\n",
    "        node.prev = self.head\n",
    "        node.next = self.head.next\n",
    "\n",
    "        self.head.next.prev = node\n",
    "        self.head.next = node\n",
    "\n",
    "    def _remove_node(self, node):\n",
    "        prev = node.prev\n",
    "        new = node.next\n",
    "\n",
    "        prev.next = new\n",
    "        new.prev = prev\n",
    "\n",
    "    def _move_to_head(self, node):\n",
    "        self._remove_node(node)\n",
    "        self._add_node(node)\n",
    "\n",
    "    def _pop_tail(self):\n",
    "        res = self.tail.prev\n",
    "        self._remove_node(res)\n",
    "        return res\n",
    "\n",
    "    def __init__(self, capacity):\n",
    "        self.cache = {}\n",
    "        self.size = 0\n",
    "        self.capacity = capacity\n",
    "        self.head, self.tail = DLinkedNode(), DLinkedNode()\n",
    "\n",
    "        self.head.next = self.tail\n",
    "        self.tail.prev = self.head\n",
    "        \n",
    "\n",
    "    def get(self, key):\n",
    "        node = self.cache.get(key, None)\n",
    "        if not node:\n",
    "            return -1\n",
    "        self._move_to_head(node)\n",
    "\n",
    "        return node.value\n",
    "\n",
    "    def put(self, key, value):\n",
    "        node = self.cache.get(key)\n",
    "\n",
    "        if not node: \n",
    "            newNode = DLinkedNode()\n",
    "            newNode.key = key\n",
    "            newNode.value = value\n",
    "\n",
    "            self.cache[key] = newNode\n",
    "            self._add_node(newNode)\n",
    "\n",
    "            self.size += 1\n",
    "\n",
    "            if self.size > self.capacity:\n",
    "                tail = self._pop_tail()\n",
    "                del self.cache[tail.key]\n",
    "                self.size -= 1\n",
    "        else:\n",
    "            node.value = value\n",
    "            self._move_to_head(node)"
   ]
  },
  {
   "cell_type": "markdown",
   "id": "0f0834f4-b25f-43d3-9b9f-26efb76b02c6",
   "metadata": {},
   "source": [
    "#### reaching points"
   ]
  },
  {
   "cell_type": "code",
   "execution_count": 43,
   "id": "e735fd79-93c5-4452-ab8c-f9f4e75b9a87",
   "metadata": {},
   "outputs": [],
   "source": [
    "class Solution:\n",
    "    def reachingPoints(self, sx: int, sy: int, tx: int, ty: int) -> bool:\n",
    "        while tx >= sx and ty >= sy:\n",
    "            if tx == ty:\n",
    "                break\n",
    "            elif tx > ty:\n",
    "                if ty > sy:\n",
    "                    tx %= ty\n",
    "                else:\n",
    "                    return (tx - sx) % ty == 0\n",
    "            else:\n",
    "                if tx > sx:\n",
    "                    ty %= tx\n",
    "                else:\n",
    "                    return (ty - sy) % tx == 0\n",
    "\n",
    "        return tx == sx and ty == sy"
   ]
  }
 ],
 "metadata": {
  "kernelspec": {
   "display_name": "Python 3 (ipykernel)",
   "language": "python",
   "name": "python3"
  },
  "language_info": {
   "codemirror_mode": {
    "name": "ipython",
    "version": 3
   },
   "file_extension": ".py",
   "mimetype": "text/x-python",
   "name": "python",
   "nbconvert_exporter": "python",
   "pygments_lexer": "ipython3",
   "version": "3.8.11"
  }
 },
 "nbformat": 4,
 "nbformat_minor": 5
}
